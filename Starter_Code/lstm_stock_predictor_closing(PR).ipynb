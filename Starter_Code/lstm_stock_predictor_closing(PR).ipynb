{
  "nbformat": 4,
  "nbformat_minor": 0,
  "metadata": {
    "file_extension": ".py",
    "kernelspec": {
      "display_name": "Python 3.7.7 64-bit ('dev': conda)",
      "language": "python",
      "name": "python37764bitdevconda30c4027b071341ef863ddfcdef37d5e3"
    },
    "language_info": {
      "codemirror_mode": {
        "name": "ipython",
        "version": 3
      },
      "file_extension": ".py",
      "mimetype": "text/x-python",
      "name": "python",
      "nbconvert_exporter": "python",
      "pygments_lexer": "ipython3",
      "version": "3.7.7"
    },
    "mimetype": "text/x-python",
    "name": "python",
    "npconvert_exporter": "python",
    "pygments_lexer": "ipython3",
    "version": 3,
    "colab": {
      "name": "lstm_stock_predictor_closing(PR).ipynb",
      "provenance": [],
      "collapsed_sections": [],
      "toc_visible": true
    }
  },
  "cells": [
    {
      "cell_type": "markdown",
      "metadata": {
        "id": "vKeo5HIjpjMO"
      },
      "source": [
        "# LSTM Stock Predictor Using Closing Prices\n",
        "\n",
        "In this notebook, you will build and train a custom LSTM RNN that uses a 10 day window of Bitcoin closing prices to predict the 11th day closing price. \n",
        "\n",
        "You will need to:\n",
        "\n",
        "1. Prepare the data for training and testing\n",
        "2. Build and train a custom LSTM RNN\n",
        "3. Evaluate the performance of the model"
      ]
    },
    {
      "cell_type": "markdown",
      "metadata": {
        "id": "3V0CC8kVpjMU"
      },
      "source": [
        "## Data Preparation\n",
        "\n",
        "In this section, you will need to prepare the training and testing data for the model. The model will use a rolling 10 day window to predict the 11th day closing price.\n",
        "\n",
        "You will need to:\n",
        "1. Use the `window_data` function to generate the X and y values for the model.\n",
        "2. Split the data into 70% training and 30% testing\n",
        "3. Apply the MinMaxScaler to the X and y values\n",
        "4. Reshape the X_train and X_test data for the model. Note: The required input format for the LSTM is:\n",
        "\n",
        "```python\n",
        "reshape((X_train.shape[0], X_train.shape[1], 1))\n",
        "```"
      ]
    },
    {
      "cell_type": "code",
      "metadata": {
        "id": "MANCblI9pjMV"
      },
      "source": [
        "import numpy as np\n",
        "import pandas as pd\n",
        "import matplotlib"
      ],
      "execution_count": 10,
      "outputs": []
    },
    {
      "cell_type": "code",
      "metadata": {
        "id": "_FMTDVKzpjMX"
      },
      "source": [
        "# Set the random seed for reproducibility\n",
        "# Note: This is for the homework solution, but it is good practice to comment this out and run multiple experiments to evaluate your model\n",
        "from numpy.random import seed\n",
        "seed(1)\n",
        "from tensorflow import random\n",
        "random.set_seed(2)"
      ],
      "execution_count": 11,
      "outputs": []
    },
    {
      "cell_type": "code",
      "metadata": {
        "colab": {
          "base_uri": "https://localhost:8080/",
          "height": 227
        },
        "id": "lcvvllT9pjMY",
        "outputId": "5490a45e-a5e2-4fff-f923-c4c34de66e09"
      },
      "source": [
        "# Load the fear and greed sentiment data for Bitcoin\n",
        "df = pd.read_csv('btc_sentiment.csv', index_col=\"date\", infer_datetime_format=True, parse_dates=True)\n",
        "df = df.drop(columns=\"fng_classification\")\n",
        "df.head()"
      ],
      "execution_count": 12,
      "outputs": [
        {
          "output_type": "execute_result",
          "data": {
            "text/html": [
              "<div>\n",
              "<style scoped>\n",
              "    .dataframe tbody tr th:only-of-type {\n",
              "        vertical-align: middle;\n",
              "    }\n",
              "\n",
              "    .dataframe tbody tr th {\n",
              "        vertical-align: top;\n",
              "    }\n",
              "\n",
              "    .dataframe thead th {\n",
              "        text-align: right;\n",
              "    }\n",
              "</style>\n",
              "<table border=\"1\" class=\"dataframe\">\n",
              "  <thead>\n",
              "    <tr style=\"text-align: right;\">\n",
              "      <th></th>\n",
              "      <th>fng_value</th>\n",
              "    </tr>\n",
              "    <tr>\n",
              "      <th>date</th>\n",
              "      <th></th>\n",
              "    </tr>\n",
              "  </thead>\n",
              "  <tbody>\n",
              "    <tr>\n",
              "      <th>2019-07-29</th>\n",
              "      <td>19</td>\n",
              "    </tr>\n",
              "    <tr>\n",
              "      <th>2019-07-28</th>\n",
              "      <td>16</td>\n",
              "    </tr>\n",
              "    <tr>\n",
              "      <th>2019-07-27</th>\n",
              "      <td>47</td>\n",
              "    </tr>\n",
              "    <tr>\n",
              "      <th>2019-07-26</th>\n",
              "      <td>24</td>\n",
              "    </tr>\n",
              "    <tr>\n",
              "      <th>2019-07-25</th>\n",
              "      <td>42</td>\n",
              "    </tr>\n",
              "  </tbody>\n",
              "</table>\n",
              "</div>"
            ],
            "text/plain": [
              "             fng_value\n",
              "date                  \n",
              "2019-07-29          19\n",
              "2019-07-28          16\n",
              "2019-07-27          47\n",
              "2019-07-26          24\n",
              "2019-07-25          42"
            ]
          },
          "metadata": {
            "tags": []
          },
          "execution_count": 12
        }
      ]
    },
    {
      "cell_type": "code",
      "metadata": {
        "colab": {
          "base_uri": "https://localhost:8080/"
        },
        "id": "uTklYDXFpjMZ",
        "outputId": "104cbc7e-7527-4df9-8daf-a6ab626c4c25"
      },
      "source": [
        "# Load the historical closing prices for Bitcoin\n",
        "df2 = pd.read_csv('btc_historic.csv', index_col=\"Date\", infer_datetime_format=True, parse_dates=True)['Close']\n",
        "df2 = df2.sort_index()\n",
        "df2.tail()"
      ],
      "execution_count": 13,
      "outputs": [
        {
          "output_type": "execute_result",
          "data": {
            "text/plain": [
              "Date\n",
              "2019-07-25    9882.429688\n",
              "2019-07-26    9847.450195\n",
              "2019-07-27    9478.320313\n",
              "2019-07-28    9531.769531\n",
              "2019-07-29    9529.889648\n",
              "Name: Close, dtype: float64"
            ]
          },
          "metadata": {
            "tags": []
          },
          "execution_count": 13
        }
      ]
    },
    {
      "cell_type": "code",
      "metadata": {
        "colab": {
          "base_uri": "https://localhost:8080/",
          "height": 197
        },
        "id": "LtGtu9xRpjMZ",
        "outputId": "4e8edb7b-f678-4537-e336-f1647360ef43"
      },
      "source": [
        "# Join the data into a single DataFrame\n",
        "df = df.join(df2, how=\"inner\")\n",
        "df.tail()"
      ],
      "execution_count": 14,
      "outputs": [
        {
          "output_type": "execute_result",
          "data": {
            "text/html": [
              "<div>\n",
              "<style scoped>\n",
              "    .dataframe tbody tr th:only-of-type {\n",
              "        vertical-align: middle;\n",
              "    }\n",
              "\n",
              "    .dataframe tbody tr th {\n",
              "        vertical-align: top;\n",
              "    }\n",
              "\n",
              "    .dataframe thead th {\n",
              "        text-align: right;\n",
              "    }\n",
              "</style>\n",
              "<table border=\"1\" class=\"dataframe\">\n",
              "  <thead>\n",
              "    <tr style=\"text-align: right;\">\n",
              "      <th></th>\n",
              "      <th>fng_value</th>\n",
              "      <th>Close</th>\n",
              "    </tr>\n",
              "  </thead>\n",
              "  <tbody>\n",
              "    <tr>\n",
              "      <th>2019-07-25</th>\n",
              "      <td>42</td>\n",
              "      <td>9882.429688</td>\n",
              "    </tr>\n",
              "    <tr>\n",
              "      <th>2019-07-26</th>\n",
              "      <td>24</td>\n",
              "      <td>9847.450195</td>\n",
              "    </tr>\n",
              "    <tr>\n",
              "      <th>2019-07-27</th>\n",
              "      <td>47</td>\n",
              "      <td>9478.320313</td>\n",
              "    </tr>\n",
              "    <tr>\n",
              "      <th>2019-07-28</th>\n",
              "      <td>16</td>\n",
              "      <td>9531.769531</td>\n",
              "    </tr>\n",
              "    <tr>\n",
              "      <th>2019-07-29</th>\n",
              "      <td>19</td>\n",
              "      <td>9529.889648</td>\n",
              "    </tr>\n",
              "  </tbody>\n",
              "</table>\n",
              "</div>"
            ],
            "text/plain": [
              "             fng_value        Close\n",
              "2019-07-25          42  9882.429688\n",
              "2019-07-26          24  9847.450195\n",
              "2019-07-27          47  9478.320313\n",
              "2019-07-28          16  9531.769531\n",
              "2019-07-29          19  9529.889648"
            ]
          },
          "metadata": {
            "tags": []
          },
          "execution_count": 14
        }
      ]
    },
    {
      "cell_type": "code",
      "metadata": {
        "colab": {
          "base_uri": "https://localhost:8080/",
          "height": 197
        },
        "id": "fzVwh3-VpjMa",
        "outputId": "0e756e10-bdb0-45c8-b4d2-1257c321cda8"
      },
      "source": [
        "df.head()"
      ],
      "execution_count": 15,
      "outputs": [
        {
          "output_type": "execute_result",
          "data": {
            "text/html": [
              "<div>\n",
              "<style scoped>\n",
              "    .dataframe tbody tr th:only-of-type {\n",
              "        vertical-align: middle;\n",
              "    }\n",
              "\n",
              "    .dataframe tbody tr th {\n",
              "        vertical-align: top;\n",
              "    }\n",
              "\n",
              "    .dataframe thead th {\n",
              "        text-align: right;\n",
              "    }\n",
              "</style>\n",
              "<table border=\"1\" class=\"dataframe\">\n",
              "  <thead>\n",
              "    <tr style=\"text-align: right;\">\n",
              "      <th></th>\n",
              "      <th>fng_value</th>\n",
              "      <th>Close</th>\n",
              "    </tr>\n",
              "  </thead>\n",
              "  <tbody>\n",
              "    <tr>\n",
              "      <th>2018-02-01</th>\n",
              "      <td>30</td>\n",
              "      <td>9114.719727</td>\n",
              "    </tr>\n",
              "    <tr>\n",
              "      <th>2018-02-02</th>\n",
              "      <td>15</td>\n",
              "      <td>8870.820313</td>\n",
              "    </tr>\n",
              "    <tr>\n",
              "      <th>2018-02-03</th>\n",
              "      <td>40</td>\n",
              "      <td>9251.269531</td>\n",
              "    </tr>\n",
              "    <tr>\n",
              "      <th>2018-02-04</th>\n",
              "      <td>24</td>\n",
              "      <td>8218.049805</td>\n",
              "    </tr>\n",
              "    <tr>\n",
              "      <th>2018-02-05</th>\n",
              "      <td>11</td>\n",
              "      <td>6937.080078</td>\n",
              "    </tr>\n",
              "  </tbody>\n",
              "</table>\n",
              "</div>"
            ],
            "text/plain": [
              "             fng_value        Close\n",
              "2018-02-01          30  9114.719727\n",
              "2018-02-02          15  8870.820313\n",
              "2018-02-03          40  9251.269531\n",
              "2018-02-04          24  8218.049805\n",
              "2018-02-05          11  6937.080078"
            ]
          },
          "metadata": {
            "tags": []
          },
          "execution_count": 15
        }
      ]
    },
    {
      "cell_type": "code",
      "metadata": {
        "id": "ih8FtdOYpjMa"
      },
      "source": [
        "# This function accepts the column number for the features (X) and the target (y)\n",
        "# It chunks the data up with a rolling window of Xt-n to predict Xt\n",
        "# It returns a numpy array of X any y\n",
        "def window_data(df, window, feature_col_number, target_col_number):\n",
        "    X = []\n",
        "    y = []\n",
        "    for i in range(len(df) - window - 1):\n",
        "        features = df.iloc[i:(i + window), feature_col_number]\n",
        "        target = df.iloc[(i + window), target_col_number]\n",
        "        X.append(features)\n",
        "        y.append(target)\n",
        "    return np.array(X), np.array(y).reshape(-1, 1)"
      ],
      "execution_count": 16,
      "outputs": []
    },
    {
      "cell_type": "code",
      "metadata": {
        "id": "6-qa-3HdpjMa"
      },
      "source": [
        "# Predict Closing Prices using a 10 day window of previous closing prices\n",
        "# Then, experiment with window sizes anywhere from 1 to 10 and see how the model performance changes\n",
        "window_size = 10\n",
        "\n",
        "# Column index 0 is the 'fng_value' column\n",
        "# Column index 1 is the `Close` column\n",
        "feature_column = 1\n",
        "target_column = 1\n",
        "X, y = window_data(df, window_size, feature_column, target_column)"
      ],
      "execution_count": 17,
      "outputs": []
    },
    {
      "cell_type": "code",
      "metadata": {
        "id": "8JfE1uxXpjMb"
      },
      "source": [
        "# Use 70% of the data for training and the remaineder for testing\n",
        "split = int(0.7 * len(X))\n",
        "X_train = X[: split - 1]\n",
        "X_test = X[split:]\n",
        "y_train = y[: split - 1]\n",
        "y_test = y[split:]"
      ],
      "execution_count": 18,
      "outputs": []
    },
    {
      "cell_type": "code",
      "metadata": {
        "colab": {
          "base_uri": "https://localhost:8080/"
        },
        "id": "gnZk9QJlpjMb",
        "outputId": "2f5491bc-bbc8-497e-d682-df5d200e17ee"
      },
      "source": [
        "from sklearn.preprocessing import MinMaxScaler\n",
        "# Use the MinMaxScaler to scale data between 0 and 1.\n",
        "scaler = MinMaxScaler()\n",
        "scaler.fit(X)\n",
        "X_train = scaler.transform(X_train)\n",
        "X_test = scaler.transform(X_test)\n",
        "scaler.fit(y)\n",
        "y_train = scaler.transform(y_train)\n",
        "y_test = scaler.transform(y_test)\n",
        "X_train[:5]\n"
      ],
      "execution_count": 19,
      "outputs": [
        {
          "output_type": "execute_result",
          "data": {
            "text/plain": [
              "array([[0.60761794, 0.58242373, 0.62172321, 0.51499412, 0.38267307,\n",
              "        0.46160996, 0.4503991 , 0.5193988 , 0.56445096, 0.55127638],\n",
              "       [0.58242373, 0.62172321, 0.51499412, 0.38267307, 0.46160996,\n",
              "        0.4503991 , 0.5193988 , 0.56445096, 0.55127638, 0.5012101 ],\n",
              "       [0.62172321, 0.51499412, 0.38267307, 0.46160996, 0.4503991 ,\n",
              "        0.5193988 , 0.56445096, 0.55127638, 0.5012101 , 0.58660203],\n",
              "       [0.51499412, 0.38267307, 0.46160996, 0.4503991 , 0.5193988 ,\n",
              "        0.56445096, 0.55127638, 0.5012101 , 0.58660203, 0.5487353 ],\n",
              "       [0.38267307, 0.46160996, 0.4503991 , 0.5193988 , 0.56445096,\n",
              "        0.55127638, 0.5012101 , 0.58660203, 0.5487353 , 0.64593307]])"
            ]
          },
          "metadata": {
            "tags": []
          },
          "execution_count": 19
        }
      ]
    },
    {
      "cell_type": "code",
      "metadata": {
        "colab": {
          "base_uri": "https://localhost:8080/"
        },
        "id": "XAHo9q5-pjMb",
        "outputId": "fc120c51-359c-45b0-b1dd-4cea195bf41a"
      },
      "source": [
        "# Reshape the features for the model\n",
        "X_train = X_train.reshape((X_train.shape[0], X_train.shape[1], 1))\n",
        "X_test = X_test.reshape((X_test.shape[0], X_test.shape[1], 1))\n",
        "print (f\"X_train sample values:\\n{X_train[:5]} \\n\")\n",
        "print (f\"X_test sample values:\\n{X_test[:5]}\")"
      ],
      "execution_count": 20,
      "outputs": [
        {
          "output_type": "stream",
          "text": [
            "X_train sample values:\n",
            "[[[0.60761794]\n",
            "  [0.58242373]\n",
            "  [0.62172321]\n",
            "  [0.51499412]\n",
            "  [0.38267307]\n",
            "  [0.46160996]\n",
            "  [0.4503991 ]\n",
            "  [0.5193988 ]\n",
            "  [0.56445096]\n",
            "  [0.55127638]]\n",
            "\n",
            " [[0.58242373]\n",
            "  [0.62172321]\n",
            "  [0.51499412]\n",
            "  [0.38267307]\n",
            "  [0.46160996]\n",
            "  [0.4503991 ]\n",
            "  [0.5193988 ]\n",
            "  [0.56445096]\n",
            "  [0.55127638]\n",
            "  [0.5012101 ]]\n",
            "\n",
            " [[0.62172321]\n",
            "  [0.51499412]\n",
            "  [0.38267307]\n",
            "  [0.46160996]\n",
            "  [0.4503991 ]\n",
            "  [0.5193988 ]\n",
            "  [0.56445096]\n",
            "  [0.55127638]\n",
            "  [0.5012101 ]\n",
            "  [0.58660203]]\n",
            "\n",
            " [[0.51499412]\n",
            "  [0.38267307]\n",
            "  [0.46160996]\n",
            "  [0.4503991 ]\n",
            "  [0.5193988 ]\n",
            "  [0.56445096]\n",
            "  [0.55127638]\n",
            "  [0.5012101 ]\n",
            "  [0.58660203]\n",
            "  [0.5487353 ]]\n",
            "\n",
            " [[0.38267307]\n",
            "  [0.46160996]\n",
            "  [0.4503991 ]\n",
            "  [0.5193988 ]\n",
            "  [0.56445096]\n",
            "  [0.55127638]\n",
            "  [0.5012101 ]\n",
            "  [0.58660203]\n",
            "  [0.5487353 ]\n",
            "  [0.64593307]]] \n",
            "\n",
            "X_test sample values:\n",
            "[[[0.04675556]\n",
            "  [0.03913222]\n",
            "  [0.03975922]\n",
            "  [0.03856719]\n",
            "  [0.03679562]\n",
            "  [0.03728835]\n",
            "  [0.03974167]\n",
            "  [0.04528668]\n",
            "  [0.04528668]\n",
            "  [0.07024855]]\n",
            "\n",
            " [[0.03913222]\n",
            "  [0.03975922]\n",
            "  [0.03856719]\n",
            "  [0.03679562]\n",
            "  [0.03728835]\n",
            "  [0.03974167]\n",
            "  [0.04528668]\n",
            "  [0.04528668]\n",
            "  [0.07024855]\n",
            "  [0.07145402]]\n",
            "\n",
            " [[0.03975922]\n",
            "  [0.03856719]\n",
            "  [0.03679562]\n",
            "  [0.03728835]\n",
            "  [0.03974167]\n",
            "  [0.04528668]\n",
            "  [0.04528668]\n",
            "  [0.07024855]\n",
            "  [0.07145402]\n",
            "  [0.07659928]]\n",
            "\n",
            " [[0.03856719]\n",
            "  [0.03679562]\n",
            "  [0.03728835]\n",
            "  [0.03974167]\n",
            "  [0.04528668]\n",
            "  [0.04528668]\n",
            "  [0.07024855]\n",
            "  [0.07145402]\n",
            "  [0.07659928]\n",
            "  [0.07277624]]\n",
            "\n",
            " [[0.03679562]\n",
            "  [0.03728835]\n",
            "  [0.03974167]\n",
            "  [0.04528668]\n",
            "  [0.04528668]\n",
            "  [0.07024855]\n",
            "  [0.07145402]\n",
            "  [0.07659928]\n",
            "  [0.07277624]\n",
            "  [0.07757854]]]\n"
          ],
          "name": "stdout"
        }
      ]
    },
    {
      "cell_type": "markdown",
      "metadata": {
        "id": "6VTrDhZHpjMb"
      },
      "source": [
        "---"
      ]
    },
    {
      "cell_type": "markdown",
      "metadata": {
        "id": "jh7NndXepjMc"
      },
      "source": [
        "## Build and Train the LSTM RNN\n",
        "\n",
        "In this section, you will design a custom LSTM RNN and fit (train) it using the training data.\n",
        "\n",
        "You will need to:\n",
        "1. Define the model architecture\n",
        "2. Compile the model\n",
        "3. Fit the model to the training data\n",
        "\n",
        "### Hints:\n",
        "You will want to use the same model architecture and random seed for both notebooks. This is necessary to accurately compare the performance of the FNG model vs the closing price model. "
      ]
    },
    {
      "cell_type": "code",
      "metadata": {
        "id": "Ry5jnIyypjMc"
      },
      "source": [
        "from tensorflow.keras.models import Sequential\n",
        "from tensorflow.keras.layers import LSTM, Dense, Dropout"
      ],
      "execution_count": 21,
      "outputs": []
    },
    {
      "cell_type": "code",
      "metadata": {
        "id": "Tagby6I8pjMc"
      },
      "source": [
        "# Build the LSTM model. \n",
        "# The return sequences need to be set to True if you are adding additional LSTM layers, but \n",
        "# You don't have to do this for the final layer. \n",
        "# Note: The dropouts help prevent overfitting\n",
        "# Note: The input shape is the number of time steps and the number of indicators\n",
        "# Note: Batching inputs has a different input shape of Samples/TimeSteps/Features\n",
        "\n",
        "model = Sequential()\n",
        "\n",
        "number_units = 30\n",
        "dropout_fraction = 0.2\n",
        "\n",
        "# Layer 1\n",
        "model.add(LSTM(\n",
        "    units=number_units,\n",
        "    return_sequences=True,\n",
        "    input_shape=(X_train.shape[1], 1))\n",
        "    )\n",
        "model.add(Dropout(dropout_fraction))\n",
        "# Layer 2\n",
        "model.add(LSTM(units=number_units, return_sequences=True))\n",
        "model.add(Dropout(dropout_fraction))\n",
        "# Layer 3\n",
        "model.add(LSTM(units=number_units))\n",
        "model.add(Dropout(dropout_fraction))\n",
        "# Output layer\n",
        "model.add(Dense(1))\n"
      ],
      "execution_count": 22,
      "outputs": []
    },
    {
      "cell_type": "code",
      "metadata": {
        "id": "etloCNJOpjMc"
      },
      "source": [
        "# Compile the model\n",
        "model.compile(optimizer=\"adam\", loss=\"mean_squared_error\")"
      ],
      "execution_count": 23,
      "outputs": []
    },
    {
      "cell_type": "code",
      "metadata": {
        "colab": {
          "base_uri": "https://localhost:8080/"
        },
        "id": "qWH0vnSspjMc",
        "outputId": "ca02b1c6-7e62-42f7-c405-5eed9e641011"
      },
      "source": [
        "# Summarize the model\n",
        "model.summary()"
      ],
      "execution_count": 24,
      "outputs": [
        {
          "output_type": "stream",
          "text": [
            "Model: \"sequential\"\n",
            "_________________________________________________________________\n",
            "Layer (type)                 Output Shape              Param #   \n",
            "=================================================================\n",
            "lstm (LSTM)                  (None, 10, 30)            3840      \n",
            "_________________________________________________________________\n",
            "dropout (Dropout)            (None, 10, 30)            0         \n",
            "_________________________________________________________________\n",
            "lstm_1 (LSTM)                (None, 10, 30)            7320      \n",
            "_________________________________________________________________\n",
            "dropout_1 (Dropout)          (None, 10, 30)            0         \n",
            "_________________________________________________________________\n",
            "lstm_2 (LSTM)                (None, 30)                7320      \n",
            "_________________________________________________________________\n",
            "dropout_2 (Dropout)          (None, 30)                0         \n",
            "_________________________________________________________________\n",
            "dense (Dense)                (None, 1)                 31        \n",
            "=================================================================\n",
            "Total params: 18,511\n",
            "Trainable params: 18,511\n",
            "Non-trainable params: 0\n",
            "_________________________________________________________________\n"
          ],
          "name": "stdout"
        }
      ]
    },
    {
      "cell_type": "code",
      "metadata": {
        "colab": {
          "base_uri": "https://localhost:8080/"
        },
        "id": "xkKp7tDapjMd",
        "outputId": "5b7b721a-dfe6-4f86-d048-3c32cac50bc6"
      },
      "source": [
        "# Train the model\n",
        "# Use at least 10 epochs\n",
        "# Do not shuffle the data\n",
        "# Experiement with the batch size, but a smaller batch size is recommended\n",
        "model.fit(X_train, y_train, epochs=10, shuffle=False, batch_size=1, verbose=1)"
      ],
      "execution_count": 26,
      "outputs": [
        {
          "output_type": "stream",
          "text": [
            "Epoch 1/10\n",
            "371/371 [==============================] - 7s 9ms/step - loss: 0.0581\n",
            "Epoch 2/10\n",
            "371/371 [==============================] - 3s 8ms/step - loss: 0.0507\n",
            "Epoch 3/10\n",
            "371/371 [==============================] - 3s 8ms/step - loss: 0.0625\n",
            "Epoch 4/10\n",
            "371/371 [==============================] - 3s 8ms/step - loss: 0.0619\n",
            "Epoch 5/10\n",
            "371/371 [==============================] - 3s 8ms/step - loss: 0.0534\n",
            "Epoch 6/10\n",
            "371/371 [==============================] - 3s 8ms/step - loss: 0.0478\n",
            "Epoch 7/10\n",
            "371/371 [==============================] - 3s 8ms/step - loss: 0.0447\n",
            "Epoch 8/10\n",
            "371/371 [==============================] - 3s 8ms/step - loss: 0.0389\n",
            "Epoch 9/10\n",
            "371/371 [==============================] - 3s 8ms/step - loss: 0.0361\n",
            "Epoch 10/10\n",
            "371/371 [==============================] - 3s 9ms/step - loss: 0.0352\n"
          ],
          "name": "stdout"
        },
        {
          "output_type": "execute_result",
          "data": {
            "text/plain": [
              "<tensorflow.python.keras.callbacks.History at 0x7f2fb14c77b8>"
            ]
          },
          "metadata": {
            "tags": []
          },
          "execution_count": 26
        }
      ]
    },
    {
      "cell_type": "markdown",
      "metadata": {
        "id": "tonXZLcYpjMd"
      },
      "source": [
        "---"
      ]
    },
    {
      "cell_type": "markdown",
      "metadata": {
        "id": "wjaragbmpjMd"
      },
      "source": [
        "## Model Performance\n",
        "\n",
        "In this section, you will evaluate the model using the test data. \n",
        "\n",
        "You will need to:\n",
        "1. Evaluate the model using the `X_test` and `y_test` data.\n",
        "2. Use the X_test data to make predictions\n",
        "3. Create a DataFrame of Real (y_test) vs predicted values. \n",
        "4. Plot the Real vs predicted values as a line chart\n",
        "\n",
        "### Hints\n",
        "Remember to apply the `inverse_transform` function to the predicted and y_test values to recover the actual closing prices."
      ]
    },
    {
      "cell_type": "code",
      "metadata": {
        "colab": {
          "base_uri": "https://localhost:8080/"
        },
        "id": "HIBU0GJtpjMd",
        "outputId": "17ade9c5-dee1-44f2-e780-dccdc5cfae64"
      },
      "source": [
        "# Evaluate the model\n",
        "model.evaluate(X_test, y_test)"
      ],
      "execution_count": 27,
      "outputs": [
        {
          "output_type": "stream",
          "text": [
            "5/5 [==============================] - 1s 5ms/step - loss: 0.0570\n"
          ],
          "name": "stdout"
        },
        {
          "output_type": "execute_result",
          "data": {
            "text/plain": [
              "0.05698739364743233"
            ]
          },
          "metadata": {
            "tags": []
          },
          "execution_count": 27
        }
      ]
    },
    {
      "cell_type": "code",
      "metadata": {
        "id": "lYj1GfQwpjMe"
      },
      "source": [
        "# Make some predictions\n",
        "predicted = model.predict(X_test)"
      ],
      "execution_count": 28,
      "outputs": []
    },
    {
      "cell_type": "code",
      "metadata": {
        "id": "3uua_HexpjMe"
      },
      "source": [
        "# Recover the original prices instead of the scaled version\n",
        "predicted_prices = scaler.inverse_transform(predicted)\n",
        "real_prices = scaler.inverse_transform(y_test.reshape(-1, 1))"
      ],
      "execution_count": 30,
      "outputs": []
    },
    {
      "cell_type": "code",
      "metadata": {
        "colab": {
          "base_uri": "https://localhost:8080/",
          "height": 197
        },
        "id": "etDmorFRpjMe",
        "outputId": "4e5d01bb-4d6f-4d11-f7b5-c255ae7ca3e9"
      },
      "source": [
        "# Create a DataFrame of Real and Predicted values\n",
        "stocks = pd.DataFrame({\n",
        "    \"Real\": real_prices.ravel(),\n",
        "    \"Predicted\": predicted_prices.ravel()\n",
        "}, index = df.index[-len(real_prices): ]) \n",
        "stocks.head()"
      ],
      "execution_count": 31,
      "outputs": [
        {
          "output_type": "execute_result",
          "data": {
            "text/html": [
              "<div>\n",
              "<style scoped>\n",
              "    .dataframe tbody tr th:only-of-type {\n",
              "        vertical-align: middle;\n",
              "    }\n",
              "\n",
              "    .dataframe tbody tr th {\n",
              "        vertical-align: top;\n",
              "    }\n",
              "\n",
              "    .dataframe thead th {\n",
              "        text-align: right;\n",
              "    }\n",
              "</style>\n",
              "<table border=\"1\" class=\"dataframe\">\n",
              "  <thead>\n",
              "    <tr style=\"text-align: right;\">\n",
              "      <th></th>\n",
              "      <th>Real</th>\n",
              "      <th>Predicted</th>\n",
              "    </tr>\n",
              "  </thead>\n",
              "  <tbody>\n",
              "    <tr>\n",
              "      <th>2019-02-20</th>\n",
              "      <td>3924.239990</td>\n",
              "      <td>3916.516846</td>\n",
              "    </tr>\n",
              "    <tr>\n",
              "      <th>2019-02-21</th>\n",
              "      <td>3974.050049</td>\n",
              "      <td>3939.953613</td>\n",
              "    </tr>\n",
              "    <tr>\n",
              "      <th>2019-02-22</th>\n",
              "      <td>3937.040039</td>\n",
              "      <td>3969.530762</td>\n",
              "    </tr>\n",
              "    <tr>\n",
              "      <th>2019-02-23</th>\n",
              "      <td>3983.530029</td>\n",
              "      <td>3998.069824</td>\n",
              "    </tr>\n",
              "    <tr>\n",
              "      <th>2019-02-24</th>\n",
              "      <td>4149.089844</td>\n",
              "      <td>4024.021484</td>\n",
              "    </tr>\n",
              "  </tbody>\n",
              "</table>\n",
              "</div>"
            ],
            "text/plain": [
              "                   Real    Predicted\n",
              "2019-02-20  3924.239990  3916.516846\n",
              "2019-02-21  3974.050049  3939.953613\n",
              "2019-02-22  3937.040039  3969.530762\n",
              "2019-02-23  3983.530029  3998.069824\n",
              "2019-02-24  4149.089844  4024.021484"
            ]
          },
          "metadata": {
            "tags": []
          },
          "execution_count": 31
        }
      ]
    },
    {
      "cell_type": "code",
      "metadata": {
        "colab": {
          "base_uri": "https://localhost:8080/",
          "height": 324
        },
        "id": "Nq1PjW6opjMg",
        "outputId": "95771099-7d97-4383-9ec0-33805668d05e"
      },
      "source": [
        "# Plot the real vs predicted values as a line chart\n",
        "stocks.plot(title=\"Real vs. Predicted Stock Price\", xlabel=\"Days\", ylabel=\"Price\")"
      ],
      "execution_count": 32,
      "outputs": [
        {
          "output_type": "execute_result",
          "data": {
            "text/plain": [
              "<matplotlib.axes._subplots.AxesSubplot at 0x7f2fad384a58>"
            ]
          },
          "metadata": {
            "tags": []
          },
          "execution_count": 32
        },
        {
          "output_type": "display_data",
          "data": {
            "image/png": "[encoded data removed]",
            "text/plain": [
              "<Figure size 432x288 with 1 Axes>"
            ]
          },
          "metadata": {
            "tags": [],
            "needs_background": "light"
          }
        }
      ]
    }
  ]
}